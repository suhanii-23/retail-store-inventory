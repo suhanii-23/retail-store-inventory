{
 "cells": [
  {
   "cell_type": "markdown",
   "metadata": {},
   "source": [
    "# Import Libraries"
   ]
  },
  {
   "cell_type": "code",
   "execution_count": null,
   "metadata": {
    "execution": {
     "iopub.execute_input": "2024-12-07T04:21:07.473054Z",
     "iopub.status.busy": "2024-12-07T04:21:07.472054Z",
     "iopub.status.idle": "2024-12-07T04:21:07.479931Z",
     "shell.execute_reply": "2024-12-07T04:21:07.478686Z",
     "shell.execute_reply.started": "2024-12-07T04:21:07.472985Z"
    },
    "trusted": true
   },
   "outputs": [],
   "source": [
    "import pandas as pd\n",
    "import numpy as np\n",
    "import matplotlib.pyplot as plt\n",
    "import seaborn as sns\n",
    "import plotly.express as px\n",
    "import plotly.graph_objects as go\n",
    "from plotly.subplots import make_subplots\n",
    "import plotly.io as pio\n",
    "pio.renderers.default = \"iframe\"\n",
    "pio.renderers.default = \"notebook_connected\"\n",
    "import warnings \n",
    "warnings.filterwarnings('ignore')\n",
    "\n",
    "\n",
    "from sklearn.preprocessing import StandardScaler\n",
    "from sklearn.model_selection import train_test_split\n",
    "from sklearn.metrics import r2_score, mean_squared_error, mean_absolute_error\n",
    "\n",
    "from sklearn.linear_model import LinearRegression\n",
    "from sklearn.svm import SVR  \n",
    "from sklearn.tree import DecisionTreeRegressor\n",
    "from sklearn.neighbors import KNeighborsRegressor"
   ]
  },
  {
   "cell_type": "code",
   "execution_count": null,
   "metadata": {
    "execution": {
     "iopub.execute_input": "2024-12-07T04:21:07.482131Z",
     "iopub.status.busy": "2024-12-07T04:21:07.481722Z",
     "iopub.status.idle": "2024-12-07T04:21:07.655567Z",
     "shell.execute_reply": "2024-12-07T04:21:07.65403Z",
     "shell.execute_reply.started": "2024-12-07T04:21:07.482087Z"
    },
    "trusted": true
   },
   "outputs": [],
   "source": [
    "df = pd.read_csv(r'/kaggle/input/retail-store-inventory-forecasting-dataset/retail_store_inventory.csv')"
   ]
  },
  {
   "cell_type": "code",
   "execution_count": null,
   "metadata": {
    "execution": {
     "iopub.execute_input": "2024-12-07T04:21:07.657784Z",
     "iopub.status.busy": "2024-12-07T04:21:07.657445Z",
     "iopub.status.idle": "2024-12-07T04:21:07.674438Z",
     "shell.execute_reply": "2024-12-07T04:21:07.673396Z",
     "shell.execute_reply.started": "2024-12-07T04:21:07.657751Z"
    },
    "trusted": true
   },
   "outputs": [],
   "source": [
    "df.head()"
   ]
  },
  {
   "cell_type": "code",
   "execution_count": null,
   "metadata": {
    "execution": {
     "iopub.execute_input": "2024-12-07T04:21:07.676268Z",
     "iopub.status.busy": "2024-12-07T04:21:07.675839Z",
     "iopub.status.idle": "2024-12-07T04:21:07.720254Z",
     "shell.execute_reply": "2024-12-07T04:21:07.719073Z",
     "shell.execute_reply.started": "2024-12-07T04:21:07.676224Z"
    },
    "trusted": true
   },
   "outputs": [],
   "source": [
    "df.info()"
   ]
  },
  {
   "cell_type": "code",
   "execution_count": null,
   "metadata": {
    "execution": {
     "iopub.execute_input": "2024-12-07T04:21:07.72421Z",
     "iopub.status.busy": "2024-12-07T04:21:07.723413Z",
     "iopub.status.idle": "2024-12-07T04:21:07.760905Z",
     "shell.execute_reply": "2024-12-07T04:21:07.759538Z",
     "shell.execute_reply.started": "2024-12-07T04:21:07.724158Z"
    },
    "trusted": true
   },
   "outputs": [],
   "source": [
    "df.isna().sum()"
   ]
  },
  {
   "cell_type": "code",
   "execution_count": null,
   "metadata": {
    "execution": {
     "iopub.execute_input": "2024-12-07T04:21:07.762724Z",
     "iopub.status.busy": "2024-12-07T04:21:07.762296Z",
     "iopub.status.idle": "2024-12-07T04:21:07.814923Z",
     "shell.execute_reply": "2024-12-07T04:21:07.813468Z",
     "shell.execute_reply.started": "2024-12-07T04:21:07.762679Z"
    },
    "trusted": true
   },
   "outputs": [],
   "source": [
    "df.duplicated().sum()"
   ]
  },
  {
   "cell_type": "code",
   "execution_count": null,
   "metadata": {
    "execution": {
     "iopub.execute_input": "2024-12-07T04:21:07.816838Z",
     "iopub.status.busy": "2024-12-07T04:21:07.816408Z",
     "iopub.status.idle": "2024-12-07T04:21:07.825582Z",
     "shell.execute_reply": "2024-12-07T04:21:07.824476Z",
     "shell.execute_reply.started": "2024-12-07T04:21:07.816793Z"
    },
    "trusted": true
   },
   "outputs": [],
   "source": [
    "df.drop(columns=['Date', 'Store ID', 'Product ID'], axis=1, inplace=True)"
   ]
  },
  {
   "cell_type": "code",
   "execution_count": null,
   "metadata": {
    "execution": {
     "iopub.execute_input": "2024-12-07T04:21:07.82852Z",
     "iopub.status.busy": "2024-12-07T04:21:07.828142Z",
     "iopub.status.idle": "2024-12-07T04:21:07.841193Z",
     "shell.execute_reply": "2024-12-07T04:21:07.840067Z",
     "shell.execute_reply.started": "2024-12-07T04:21:07.828485Z"
    },
    "trusted": true
   },
   "outputs": [],
   "source": [
    "df = df.rename(columns={'Inventory Level': 'Inventory', \n",
    "                        'Units Sold': 'Sales', \n",
    "                        'Units Ordered': 'Orders', \n",
    "                        'Demand Forecast': 'Demand', \n",
    "                        'Weather Condition': 'Weather', \n",
    "                        'Holiday/Promotion': 'Promotion', \n",
    "                        'Competitor Pricing': 'Competitor Price'})"
   ]
  },
  {
   "cell_type": "code",
   "execution_count": null,
   "metadata": {
    "execution": {
     "iopub.execute_input": "2024-12-07T04:21:07.843044Z",
     "iopub.status.busy": "2024-12-07T04:21:07.842698Z",
     "iopub.status.idle": "2024-12-07T04:21:08.147783Z",
     "shell.execute_reply": "2024-12-07T04:21:08.146705Z",
     "shell.execute_reply.started": "2024-12-07T04:21:07.843006Z"
    },
    "trusted": true
   },
   "outputs": [],
   "source": [
    "numarical_columns = ['Inventory','Sales','Orders','Price','Discount','Competitor Price']\n",
    "\n",
    "for col in numarical_columns:\n",
    "    fig = px.box(df, x=col)\n",
    "    fig.update_layout(height=400, width=800, title_text=col)\n",
    "    fig.show()"
   ]
  },
  {
   "cell_type": "code",
   "execution_count": null,
   "metadata": {
    "execution": {
     "iopub.execute_input": "2024-12-07T04:21:08.149765Z",
     "iopub.status.busy": "2024-12-07T04:21:08.149361Z",
     "iopub.status.idle": "2024-12-07T04:21:08.170599Z",
     "shell.execute_reply": "2024-12-07T04:21:08.169208Z",
     "shell.execute_reply.started": "2024-12-07T04:21:08.149723Z"
    },
    "trusted": true
   },
   "outputs": [],
   "source": [
    "CategoryCounts = df['Category'].value_counts().reset_index()\n",
    "CategoryCounts"
   ]
  },
  {
   "cell_type": "code",
   "execution_count": null,
   "metadata": {
    "execution": {
     "iopub.execute_input": "2024-12-07T04:21:08.175997Z",
     "iopub.status.busy": "2024-12-07T04:21:08.175492Z",
     "iopub.status.idle": "2024-12-07T04:21:08.230224Z",
     "shell.execute_reply": "2024-12-07T04:21:08.229166Z",
     "shell.execute_reply.started": "2024-12-07T04:21:08.175949Z"
    },
    "trusted": true
   },
   "outputs": [],
   "source": [
    "fig = px.bar(CategoryCounts,\n",
    "             x='Category',\n",
    "             y='count',\n",
    "             title='<b>Distribution of Category by counts<b>',\n",
    "             text_auto=True,\n",
    "             width=1000,\n",
    "             color_discrete_sequence=['#17becf']\n",
    "             )\n",
    "fig.show()"
   ]
  },
  {
   "cell_type": "code",
   "execution_count": null,
   "metadata": {
    "execution": {
     "iopub.execute_input": "2024-12-07T04:21:08.232537Z",
     "iopub.status.busy": "2024-12-07T04:21:08.231664Z",
     "iopub.status.idle": "2024-12-07T04:21:08.247703Z",
     "shell.execute_reply": "2024-12-07T04:21:08.246583Z",
     "shell.execute_reply.started": "2024-12-07T04:21:08.23249Z"
    },
    "trusted": true
   },
   "outputs": [],
   "source": [
    "RegionCounts = df['Region'].value_counts().reset_index()\n",
    "RegionCounts"
   ]
  },
  {
   "cell_type": "code",
   "execution_count": null,
   "metadata": {
    "execution": {
     "iopub.execute_input": "2024-12-07T04:21:08.249931Z",
     "iopub.status.busy": "2024-12-07T04:21:08.249464Z",
     "iopub.status.idle": "2024-12-07T04:21:08.308367Z",
     "shell.execute_reply": "2024-12-07T04:21:08.307063Z",
     "shell.execute_reply.started": "2024-12-07T04:21:08.249875Z"
    },
    "trusted": true
   },
   "outputs": [],
   "source": [
    "fig = px.bar(RegionCounts,\n",
    "             x='Region',\n",
    "             y='count',\n",
    "             title='<b>Distribution of Region by counts<b>',\n",
    "             text_auto=True,\n",
    "             width=1000,\n",
    "             color_discrete_sequence=['#bcbd22']\n",
    "             )\n",
    "fig.show()"
   ]
  },
  {
   "cell_type": "code",
   "execution_count": null,
   "metadata": {
    "execution": {
     "iopub.execute_input": "2024-12-07T04:21:08.310489Z",
     "iopub.status.busy": "2024-12-07T04:21:08.31003Z",
     "iopub.status.idle": "2024-12-07T04:21:08.329015Z",
     "shell.execute_reply": "2024-12-07T04:21:08.327828Z",
     "shell.execute_reply.started": "2024-12-07T04:21:08.31044Z"
    },
    "trusted": true
   },
   "outputs": [],
   "source": [
    "InventoryDes = df['Inventory'].describe()\n",
    "InventoryDes"
   ]
  },
  {
   "cell_type": "code",
   "execution_count": null,
   "metadata": {
    "execution": {
     "iopub.execute_input": "2024-12-07T04:21:08.331088Z",
     "iopub.status.busy": "2024-12-07T04:21:08.330759Z",
     "iopub.status.idle": "2024-12-07T04:21:08.417517Z",
     "shell.execute_reply": "2024-12-07T04:21:08.416533Z",
     "shell.execute_reply.started": "2024-12-07T04:21:08.331055Z"
    },
    "trusted": true
   },
   "outputs": [],
   "source": [
    "fig = px.histogram(df,\n",
    "                   x='Inventory',\n",
    "                   nbins=15,\n",
    "                   title='<b>Inventory Distribution<b>',\n",
    "                   text_auto=True,\n",
    "                   width=1000,\n",
    "                   color_discrete_sequence=['brown']\n",
    "                   )\n",
    "\n",
    "fig.show()"
   ]
  },
  {
   "cell_type": "code",
   "execution_count": null,
   "metadata": {
    "execution": {
     "iopub.execute_input": "2024-12-07T04:21:08.419831Z",
     "iopub.status.busy": "2024-12-07T04:21:08.419215Z",
     "iopub.status.idle": "2024-12-07T04:21:08.434136Z",
     "shell.execute_reply": "2024-12-07T04:21:08.432994Z",
     "shell.execute_reply.started": "2024-12-07T04:21:08.419785Z"
    },
    "trusted": true
   },
   "outputs": [],
   "source": [
    "SalesDes = df['Sales'].describe()\n",
    "SalesDes"
   ]
  },
  {
   "cell_type": "code",
   "execution_count": null,
   "metadata": {
    "execution": {
     "iopub.execute_input": "2024-12-07T04:21:08.436004Z",
     "iopub.status.busy": "2024-12-07T04:21:08.435571Z",
     "iopub.status.idle": "2024-12-07T04:21:08.502899Z",
     "shell.execute_reply": "2024-12-07T04:21:08.501829Z",
     "shell.execute_reply.started": "2024-12-07T04:21:08.435949Z"
    },
    "trusted": true
   },
   "outputs": [],
   "source": [
    "fig = px.histogram(df,\n",
    "                   x='Sales',\n",
    "                   nbins=20,\n",
    "                   title='<b>Sales Distribution<b>',\n",
    "                   text_auto=True,\n",
    "                   width=1000,\n",
    "                   color_discrete_sequence=['grey']\n",
    "                   )\n",
    "\n",
    "fig.show()"
   ]
  },
  {
   "cell_type": "code",
   "execution_count": null,
   "metadata": {
    "execution": {
     "iopub.execute_input": "2024-12-07T04:21:08.504829Z",
     "iopub.status.busy": "2024-12-07T04:21:08.504414Z",
     "iopub.status.idle": "2024-12-07T04:21:08.520055Z",
     "shell.execute_reply": "2024-12-07T04:21:08.518786Z",
     "shell.execute_reply.started": "2024-12-07T04:21:08.504784Z"
    },
    "trusted": true
   },
   "outputs": [],
   "source": [
    "OrdersDes = df['Orders'].describe()\n",
    "OrdersDes"
   ]
  },
  {
   "cell_type": "code",
   "execution_count": null,
   "metadata": {
    "execution": {
     "iopub.execute_input": "2024-12-07T04:21:08.521675Z",
     "iopub.status.busy": "2024-12-07T04:21:08.521281Z",
     "iopub.status.idle": "2024-12-07T04:21:08.57826Z",
     "shell.execute_reply": "2024-12-07T04:21:08.577025Z",
     "shell.execute_reply.started": "2024-12-07T04:21:08.521642Z"
    },
    "trusted": true
   },
   "outputs": [],
   "source": [
    "fig = px.histogram(df,\n",
    "                   x='Orders',\n",
    "                   nbins=15,\n",
    "                   title='<b>Orders Distribution<b>',\n",
    "                   text_auto=True,\n",
    "                   width=1000,\n",
    "                   color_discrete_sequence=['pink']\n",
    "                   )\n",
    "\n",
    "fig.show()"
   ]
  },
  {
   "cell_type": "code",
   "execution_count": null,
   "metadata": {
    "execution": {
     "iopub.execute_input": "2024-12-07T04:21:08.580081Z",
     "iopub.status.busy": "2024-12-07T04:21:08.579641Z",
     "iopub.status.idle": "2024-12-07T04:21:08.595555Z",
     "shell.execute_reply": "2024-12-07T04:21:08.594213Z",
     "shell.execute_reply.started": "2024-12-07T04:21:08.580034Z"
    },
    "trusted": true
   },
   "outputs": [],
   "source": [
    "DemandDes = df['Demand'].describe()\n",
    "DemandDes"
   ]
  },
  {
   "cell_type": "code",
   "execution_count": null,
   "metadata": {
    "execution": {
     "iopub.execute_input": "2024-12-07T04:21:08.597282Z",
     "iopub.status.busy": "2024-12-07T04:21:08.596839Z",
     "iopub.status.idle": "2024-12-07T04:21:08.662168Z",
     "shell.execute_reply": "2024-12-07T04:21:08.661183Z",
     "shell.execute_reply.started": "2024-12-07T04:21:08.597238Z"
    },
    "trusted": true
   },
   "outputs": [],
   "source": [
    "fig = px.histogram(df,\n",
    "                   x='Demand',\n",
    "                   nbins=20,\n",
    "                   title='<b>Demand Distribution<b>',\n",
    "                   text_auto=True,\n",
    "                   width=1000,\n",
    "                   color_discrete_sequence=['purple']\n",
    "                   )\n",
    "\n",
    "fig.show()"
   ]
  },
  {
   "cell_type": "code",
   "execution_count": null,
   "metadata": {
    "execution": {
     "iopub.execute_input": "2024-12-07T04:21:08.663658Z",
     "iopub.status.busy": "2024-12-07T04:21:08.663361Z",
     "iopub.status.idle": "2024-12-07T04:21:08.67914Z",
     "shell.execute_reply": "2024-12-07T04:21:08.677984Z",
     "shell.execute_reply.started": "2024-12-07T04:21:08.66363Z"
    },
    "trusted": true
   },
   "outputs": [],
   "source": [
    "PriceDes = df['Price'].describe()\n",
    "PriceDes"
   ]
  },
  {
   "cell_type": "code",
   "execution_count": null,
   "metadata": {
    "execution": {
     "iopub.execute_input": "2024-12-07T04:21:08.681673Z",
     "iopub.status.busy": "2024-12-07T04:21:08.680647Z",
     "iopub.status.idle": "2024-12-07T04:21:08.746205Z",
     "shell.execute_reply": "2024-12-07T04:21:08.745101Z",
     "shell.execute_reply.started": "2024-12-07T04:21:08.681625Z"
    },
    "trusted": true
   },
   "outputs": [],
   "source": [
    "fig = px.histogram(df,\n",
    "                   x='Price',\n",
    "                   nbins=15,\n",
    "                   title='<b>Price Distribution<b>',\n",
    "                   text_auto=True,\n",
    "                   width=1000,\n",
    "                   color_discrete_sequence=['blue']\n",
    "                   )\n",
    "\n",
    "fig.show()"
   ]
  },
  {
   "cell_type": "code",
   "execution_count": null,
   "metadata": {
    "execution": {
     "iopub.execute_input": "2024-12-07T04:21:08.747831Z",
     "iopub.status.busy": "2024-12-07T04:21:08.747517Z",
     "iopub.status.idle": "2024-12-07T04:21:08.762353Z",
     "shell.execute_reply": "2024-12-07T04:21:08.761189Z",
     "shell.execute_reply.started": "2024-12-07T04:21:08.747792Z"
    },
    "trusted": true
   },
   "outputs": [],
   "source": [
    "DiscountCounts = df['Discount'].value_counts().reset_index()\n",
    "DiscountCounts"
   ]
  },
  {
   "cell_type": "code",
   "execution_count": null,
   "metadata": {
    "execution": {
     "iopub.execute_input": "2024-12-07T04:21:08.764265Z",
     "iopub.status.busy": "2024-12-07T04:21:08.763839Z",
     "iopub.status.idle": "2024-12-07T04:21:08.834969Z",
     "shell.execute_reply": "2024-12-07T04:21:08.833731Z",
     "shell.execute_reply.started": "2024-12-07T04:21:08.764221Z"
    },
    "trusted": true
   },
   "outputs": [],
   "source": [
    "fig = px.pie(DiscountCounts,\n",
    "             names='Discount',\n",
    "             values='count',\n",
    "             title='<b>Discount Distribution<b>',\n",
    "             width=1000,\n",
    "             color_discrete_sequence=['#1f77b4', '#ff7f0e', '#2ca02c', '#d62728']\n",
    "             )\n",
    "\n",
    "fig.show()"
   ]
  },
  {
   "cell_type": "code",
   "execution_count": null,
   "metadata": {
    "execution": {
     "iopub.execute_input": "2024-12-07T04:21:08.836927Z",
     "iopub.status.busy": "2024-12-07T04:21:08.83652Z",
     "iopub.status.idle": "2024-12-07T04:21:08.855255Z",
     "shell.execute_reply": "2024-12-07T04:21:08.854188Z",
     "shell.execute_reply.started": "2024-12-07T04:21:08.836883Z"
    },
    "trusted": true
   },
   "outputs": [],
   "source": [
    "WeatherCounts = df['Weather'].value_counts().reset_index()\n",
    "WeatherCounts"
   ]
  },
  {
   "cell_type": "code",
   "execution_count": null,
   "metadata": {
    "execution": {
     "iopub.execute_input": "2024-12-07T04:21:08.857287Z",
     "iopub.status.busy": "2024-12-07T04:21:08.856858Z",
     "iopub.status.idle": "2024-12-07T04:21:08.917761Z",
     "shell.execute_reply": "2024-12-07T04:21:08.916779Z",
     "shell.execute_reply.started": "2024-12-07T04:21:08.857244Z"
    },
    "trusted": true
   },
   "outputs": [],
   "source": [
    "fig = px.bar(WeatherCounts,\n",
    "             x='Weather',\n",
    "             y='count',\n",
    "             title='<b>Distribution of Weather by counts<b>',\n",
    "             text_auto=True,\n",
    "             width=1000,\n",
    "             color_discrete_sequence=['#9467bd']\n",
    "             )\n",
    "fig.show()"
   ]
  },
  {
   "cell_type": "code",
   "execution_count": null,
   "metadata": {
    "execution": {
     "iopub.execute_input": "2024-12-07T04:21:08.91928Z",
     "iopub.status.busy": "2024-12-07T04:21:08.91897Z",
     "iopub.status.idle": "2024-12-07T04:21:08.930009Z",
     "shell.execute_reply": "2024-12-07T04:21:08.92892Z",
     "shell.execute_reply.started": "2024-12-07T04:21:08.919251Z"
    },
    "trusted": true
   },
   "outputs": [],
   "source": [
    "PromotionCounts = df['Promotion'].value_counts().reset_index()\n",
    "PromotionCounts"
   ]
  },
  {
   "cell_type": "code",
   "execution_count": null,
   "metadata": {
    "execution": {
     "iopub.execute_input": "2024-12-07T04:21:08.938838Z",
     "iopub.status.busy": "2024-12-07T04:21:08.938488Z",
     "iopub.status.idle": "2024-12-07T04:21:08.98842Z",
     "shell.execute_reply": "2024-12-07T04:21:08.987393Z",
     "shell.execute_reply.started": "2024-12-07T04:21:08.938805Z"
    },
    "trusted": true
   },
   "outputs": [],
   "source": [
    "fig = px.pie(PromotionCounts,\n",
    "             names='Promotion',\n",
    "             values='count',\n",
    "             title='<b>Promotion Distribution<b>',\n",
    "             width=1000,\n",
    "             color_discrete_sequence=['#1f77b4', '#ff7f0e', '#2ca02c', '#d62728']\n",
    "             )\n",
    "\n",
    "fig.show()"
   ]
  },
  {
   "cell_type": "code",
   "execution_count": null,
   "metadata": {
    "execution": {
     "iopub.execute_input": "2024-12-07T04:21:08.99009Z",
     "iopub.status.busy": "2024-12-07T04:21:08.989772Z",
     "iopub.status.idle": "2024-12-07T04:21:09.004008Z",
     "shell.execute_reply": "2024-12-07T04:21:09.002889Z",
     "shell.execute_reply.started": "2024-12-07T04:21:08.99006Z"
    },
    "trusted": true
   },
   "outputs": [],
   "source": [
    "CompetitorPriceDes = df['Competitor Price'].describe()\n",
    "CompetitorPriceDes"
   ]
  },
  {
   "cell_type": "code",
   "execution_count": null,
   "metadata": {
    "execution": {
     "iopub.execute_input": "2024-12-07T04:21:09.005577Z",
     "iopub.status.busy": "2024-12-07T04:21:09.005244Z",
     "iopub.status.idle": "2024-12-07T04:21:09.065787Z",
     "shell.execute_reply": "2024-12-07T04:21:09.064859Z",
     "shell.execute_reply.started": "2024-12-07T04:21:09.005546Z"
    },
    "trusted": true
   },
   "outputs": [],
   "source": [
    "fig = px.histogram(df,\n",
    "                   x='Competitor Price',\n",
    "                   nbins=10,\n",
    "                   title='<b>Competitor Price Distribution<b>',\n",
    "                   text_auto=True,\n",
    "                   width=1000,\n",
    "                   color_discrete_sequence=['brown']\n",
    "                   )\n",
    "\n",
    "fig.show()"
   ]
  },
  {
   "cell_type": "code",
   "execution_count": null,
   "metadata": {
    "execution": {
     "iopub.execute_input": "2024-12-07T04:21:09.067217Z",
     "iopub.status.busy": "2024-12-07T04:21:09.0669Z",
     "iopub.status.idle": "2024-12-07T04:21:09.082186Z",
     "shell.execute_reply": "2024-12-07T04:21:09.081142Z",
     "shell.execute_reply.started": "2024-12-07T04:21:09.067188Z"
    },
    "trusted": true
   },
   "outputs": [],
   "source": [
    "SeasonalityCounts = df['Seasonality'].value_counts().reset_index()\n",
    "SeasonalityCounts"
   ]
  },
  {
   "cell_type": "code",
   "execution_count": null,
   "metadata": {
    "execution": {
     "iopub.execute_input": "2024-12-07T04:21:09.083741Z",
     "iopub.status.busy": "2024-12-07T04:21:09.083438Z",
     "iopub.status.idle": "2024-12-07T04:21:09.144637Z",
     "shell.execute_reply": "2024-12-07T04:21:09.143565Z",
     "shell.execute_reply.started": "2024-12-07T04:21:09.083711Z"
    },
    "trusted": true
   },
   "outputs": [],
   "source": [
    "fig = px.bar(SeasonalityCounts,\n",
    "             x='Seasonality',\n",
    "             y='count',\n",
    "             title='<b>Distribution of Seasonality by counts<b>',\n",
    "             text_auto=True,\n",
    "             width=1000,\n",
    "             color_discrete_sequence=['#e377c2']\n",
    "             )\n",
    "fig.show()"
   ]
  },
  {
   "cell_type": "code",
   "execution_count": null,
   "metadata": {
    "execution": {
     "iopub.execute_input": "2024-12-07T04:21:09.146592Z",
     "iopub.status.busy": "2024-12-07T04:21:09.146139Z",
     "iopub.status.idle": "2024-12-07T04:21:11.800899Z",
     "shell.execute_reply": "2024-12-07T04:21:11.799817Z",
     "shell.execute_reply.started": "2024-12-07T04:21:09.146544Z"
    },
    "trusted": true
   },
   "outputs": [],
   "source": [
    "numarical_columns = ['Inventory','Sales','Orders','Price','Discount','Competitor Price']\n",
    "for col in numarical_columns:\n",
    "    fig = px.scatter(df,\n",
    "                    x='Demand',\n",
    "                    y=col, \n",
    "                    title=f'Relationship between {col} and Demand ',\n",
    "                    trendline=\"ols\"\n",
    "                    )\n",
    "    fig.show()"
   ]
  },
  {
   "cell_type": "code",
   "execution_count": null,
   "metadata": {
    "execution": {
     "iopub.execute_input": "2024-12-07T04:21:11.802825Z",
     "iopub.status.busy": "2024-12-07T04:21:11.802203Z",
     "iopub.status.idle": "2024-12-07T04:21:11.830681Z",
     "shell.execute_reply": "2024-12-07T04:21:11.829399Z",
     "shell.execute_reply.started": "2024-12-07T04:21:11.802789Z"
    },
    "trusted": true
   },
   "outputs": [],
   "source": [
    "df.info()"
   ]
  },
  {
   "cell_type": "code",
   "execution_count": null,
   "metadata": {
    "execution": {
     "iopub.execute_input": "2024-12-07T04:21:11.832627Z",
     "iopub.status.busy": "2024-12-07T04:21:11.83214Z",
     "iopub.status.idle": "2024-12-07T04:21:12.326358Z",
     "shell.execute_reply": "2024-12-07T04:21:12.325237Z",
     "shell.execute_reply.started": "2024-12-07T04:21:11.832592Z"
    },
    "trusted": true
   },
   "outputs": [],
   "source": [
    "numarical_columns = ['Inventory','Sales','Orders','Price','Discount','Competitor Price','Promotion','Demand']\n",
    "\n",
    "corr_matrix = df[numarical_columns].corr()\n",
    "\n",
    "plt.figure(figsize=(10,8))\n",
    "\n",
    "sns.heatmap(corr_matrix, annot=True)\n",
    "\n",
    "plt.show()"
   ]
  },
  {
   "cell_type": "code",
   "execution_count": null,
   "metadata": {
    "execution": {
     "iopub.execute_input": "2024-12-07T04:21:12.328219Z",
     "iopub.status.busy": "2024-12-07T04:21:12.327776Z",
     "iopub.status.idle": "2024-12-07T04:21:12.338062Z",
     "shell.execute_reply": "2024-12-07T04:21:12.336915Z",
     "shell.execute_reply.started": "2024-12-07T04:21:12.32817Z"
    },
    "trusted": true
   },
   "outputs": [],
   "source": [
    "x=df.drop(columns=['Demand'])\n",
    "y=df['Demand']"
   ]
  },
  {
   "cell_type": "code",
   "execution_count": null,
   "metadata": {
    "execution": {
     "iopub.execute_input": "2024-12-07T04:21:12.339614Z",
     "iopub.status.busy": "2024-12-07T04:21:12.339285Z",
     "iopub.status.idle": "2024-12-07T04:21:12.414231Z",
     "shell.execute_reply": "2024-12-07T04:21:12.413121Z",
     "shell.execute_reply.started": "2024-12-07T04:21:12.339583Z"
    },
    "trusted": true
   },
   "outputs": [],
   "source": [
    "\n",
    "from sklearn.preprocessing import LabelEncoder\n",
    "\n",
    "label_encoder = LabelEncoder()\n",
    "x['Category'] = label_encoder.fit_transform(x['Category'])\n",
    "x['Region'] = label_encoder.fit_transform(x['Region'])\n",
    "x['Weather'] = label_encoder.fit_transform(x['Weather'])\n",
    "x['Seasonality'] = label_encoder.fit_transform(x['Seasonality'])\n",
    "x['Promotion'] = label_encoder.fit_transform(x['Promotion'])\n"
   ]
  },
  {
   "cell_type": "code",
   "execution_count": null,
   "metadata": {
    "execution": {
     "iopub.execute_input": "2024-12-07T04:21:12.416097Z",
     "iopub.status.busy": "2024-12-07T04:21:12.415644Z",
     "iopub.status.idle": "2024-12-07T04:21:12.430648Z",
     "shell.execute_reply": "2024-12-07T04:21:12.429583Z",
     "shell.execute_reply.started": "2024-12-07T04:21:12.416052Z"
    },
    "trusted": true
   },
   "outputs": [],
   "source": [
    "x.head()"
   ]
  },
  {
   "cell_type": "code",
   "execution_count": null,
   "metadata": {
    "execution": {
     "iopub.execute_input": "2024-12-07T04:21:12.432464Z",
     "iopub.status.busy": "2024-12-07T04:21:12.432021Z",
     "iopub.status.idle": "2024-12-07T04:21:12.461444Z",
     "shell.execute_reply": "2024-12-07T04:21:12.460246Z",
     "shell.execute_reply.started": "2024-12-07T04:21:12.432417Z"
    },
    "trusted": true
   },
   "outputs": [],
   "source": [
    "scaler = StandardScaler()\n",
    "x = scaler.fit_transform(x)\n",
    "x"
   ]
  },
  {
   "cell_type": "code",
   "execution_count": null,
   "metadata": {
    "execution": {
     "iopub.execute_input": "2024-12-07T04:21:12.463729Z",
     "iopub.status.busy": "2024-12-07T04:21:12.463243Z",
     "iopub.status.idle": "2024-12-07T04:21:12.483214Z",
     "shell.execute_reply": "2024-12-07T04:21:12.482269Z",
     "shell.execute_reply.started": "2024-12-07T04:21:12.463682Z"
    },
    "trusted": true
   },
   "outputs": [],
   "source": [
    "x_train, x_test, y_train, y_test = train_test_split(x, y, test_size=0.2, random_state=42)"
   ]
  },
  {
   "cell_type": "code",
   "execution_count": null,
   "metadata": {
    "execution": {
     "iopub.execute_input": "2024-12-07T04:21:12.485029Z",
     "iopub.status.busy": "2024-12-07T04:21:12.484554Z",
     "iopub.status.idle": "2024-12-07T04:21:12.492931Z",
     "shell.execute_reply": "2024-12-07T04:21:12.491693Z",
     "shell.execute_reply.started": "2024-12-07T04:21:12.484983Z"
    },
    "trusted": true
   },
   "outputs": [],
   "source": [
    "x_train.shape"
   ]
  },
  {
   "cell_type": "code",
   "execution_count": null,
   "metadata": {
    "execution": {
     "iopub.execute_input": "2024-12-07T04:21:12.494724Z",
     "iopub.status.busy": "2024-12-07T04:21:12.494375Z",
     "iopub.status.idle": "2024-12-07T04:21:12.514981Z",
     "shell.execute_reply": "2024-12-07T04:21:12.513693Z",
     "shell.execute_reply.started": "2024-12-07T04:21:12.494693Z"
    },
    "trusted": true
   },
   "outputs": [],
   "source": [
    "y_train.value_counts(normalize=True)*100"
   ]
  },
  {
   "cell_type": "code",
   "execution_count": null,
   "metadata": {
    "execution": {
     "iopub.execute_input": "2024-12-07T04:21:12.516815Z",
     "iopub.status.busy": "2024-12-07T04:21:12.516447Z",
     "iopub.status.idle": "2024-12-07T04:21:12.546633Z",
     "shell.execute_reply": "2024-12-07T04:21:12.545701Z",
     "shell.execute_reply.started": "2024-12-07T04:21:12.516784Z"
    },
    "trusted": true
   },
   "outputs": [],
   "source": [
    "from tabulate import tabulate\n",
    "\n",
    "def evaluate_model(model, x_train, y_train, x_test, y_test):\n",
    "    # Calculate metrics\n",
    "    train_r2 = model.score(x_train, y_train)\n",
    "    y_pred = model.predict(x_test)\n",
    "    test_r2 = r2_score(y_test, y_pred)\n",
    "    mse = mean_squared_error(y_test, y_pred)\n",
    "    rmse = mean_squared_error(y_test, y_pred, squared=False)\n",
    "    mae = mean_absolute_error(y_test, y_pred)\n",
    "    \n",
    "    # Prepare the table data\n",
    "    metrics = [\n",
    "        [\"Training R² Score\", f\"{train_r2:.4f}\"],\n",
    "        [\"Testing R² Score\", f\"{test_r2:.4f}\"],\n",
    "        [\"Mean Squared Error (MSE)\", f\"{mse:.2f}\"],\n",
    "        [\"Root Mean Squared Error (RMSE)\", f\"{rmse:.2f}\"],\n",
    "        [\"Mean Absolute Error (MAE)\", f\"{mae:.2f}\"],\n",
    "    ]\n",
    "    \n",
    "    # Print the table\n",
    "    print(tabulate(metrics, headers=[\"Metric\", \"Value\"], tablefmt=\"grid\"))"
   ]
  },
  {
   "cell_type": "code",
   "execution_count": null,
   "metadata": {
    "execution": {
     "iopub.execute_input": "2024-12-07T04:21:12.548076Z",
     "iopub.status.busy": "2024-12-07T04:21:12.547719Z",
     "iopub.status.idle": "2024-12-07T04:21:12.603165Z",
     "shell.execute_reply": "2024-12-07T04:21:12.602297Z",
     "shell.execute_reply.started": "2024-12-07T04:21:12.548045Z"
    },
    "trusted": true
   },
   "outputs": [],
   "source": [
    "lr = LinearRegression()\n",
    "\n",
    "lr.fit(x_train, y_train)"
   ]
  },
  {
   "cell_type": "code",
   "execution_count": null,
   "metadata": {
    "execution": {
     "iopub.execute_input": "2024-12-07T04:21:12.604559Z",
     "iopub.status.busy": "2024-12-07T04:21:12.604186Z",
     "iopub.status.idle": "2024-12-07T04:21:12.633253Z",
     "shell.execute_reply": "2024-12-07T04:21:12.631454Z",
     "shell.execute_reply.started": "2024-12-07T04:21:12.604519Z"
    },
    "trusted": true
   },
   "outputs": [],
   "source": [
    "# Evaluate the model\n",
    "evaluate_model(lr, x_train, y_train, x_test, y_test)"
   ]
  },
  {
   "cell_type": "code",
   "execution_count": null,
   "metadata": {
    "execution": {
     "iopub.execute_input": "2024-12-07T04:21:12.635252Z",
     "iopub.status.busy": "2024-12-07T04:21:12.634878Z",
     "iopub.status.idle": "2024-12-07T04:23:53.464275Z",
     "shell.execute_reply": "2024-12-07T04:23:53.463108Z",
     "shell.execute_reply.started": "2024-12-07T04:21:12.635211Z"
    },
    "trusted": true
   },
   "outputs": [],
   "source": [
    "svr = SVR()\n",
    "\n",
    "svr.fit(x_train, y_train)"
   ]
  },
  {
   "cell_type": "code",
   "execution_count": null,
   "metadata": {
    "execution": {
     "iopub.execute_input": "2024-12-07T04:23:53.46647Z",
     "iopub.status.busy": "2024-12-07T04:23:53.466001Z",
     "iopub.status.idle": "2024-12-07T04:27:50.32635Z",
     "shell.execute_reply": "2024-12-07T04:27:50.32517Z",
     "shell.execute_reply.started": "2024-12-07T04:23:53.466423Z"
    },
    "trusted": true
   },
   "outputs": [],
   "source": [
    "evaluate_model(svr, x_train, y_train, x_test, y_test)"
   ]
  },
  {
   "cell_type": "code",
   "execution_count": null,
   "metadata": {
    "execution": {
     "iopub.execute_input": "2024-12-07T04:27:50.328281Z",
     "iopub.status.busy": "2024-12-07T04:27:50.327867Z",
     "iopub.status.idle": "2024-12-07T04:27:50.97284Z",
     "shell.execute_reply": "2024-12-07T04:27:50.971601Z",
     "shell.execute_reply.started": "2024-12-07T04:27:50.328238Z"
    },
    "trusted": true
   },
   "outputs": [],
   "source": [
    "DT = DecisionTreeRegressor()\n",
    "\n",
    "DT.fit(x_train, y_train)"
   ]
  },
  {
   "cell_type": "code",
   "execution_count": null,
   "metadata": {
    "execution": {
     "iopub.execute_input": "2024-12-07T04:27:50.974753Z",
     "iopub.status.busy": "2024-12-07T04:27:50.974412Z",
     "iopub.status.idle": "2024-12-07T04:27:51.01944Z",
     "shell.execute_reply": "2024-12-07T04:27:51.018411Z",
     "shell.execute_reply.started": "2024-12-07T04:27:50.974712Z"
    },
    "trusted": true
   },
   "outputs": [],
   "source": [
    "evaluate_model(DT, x_train, y_train, x_test, y_test)"
   ]
  },
  {
   "cell_type": "code",
   "execution_count": null,
   "metadata": {
    "execution": {
     "iopub.execute_input": "2024-12-07T04:27:51.021476Z",
     "iopub.status.busy": "2024-12-07T04:27:51.021018Z",
     "iopub.status.idle": "2024-12-07T04:27:51.137373Z",
     "shell.execute_reply": "2024-12-07T04:27:51.13629Z",
     "shell.execute_reply.started": "2024-12-07T04:27:51.021431Z"
    },
    "trusted": true
   },
   "outputs": [],
   "source": [
    "KNR = KNeighborsRegressor()\n",
    "\n",
    "KNR.fit(x_train,y_train)"
   ]
  },
  {
   "cell_type": "code",
   "execution_count": null,
   "metadata": {
    "execution": {
     "iopub.execute_input": "2024-12-07T04:27:51.138899Z",
     "iopub.status.busy": "2024-12-07T04:27:51.138586Z",
     "iopub.status.idle": "2024-12-07T04:28:04.144479Z",
     "shell.execute_reply": "2024-12-07T04:28:04.143413Z",
     "shell.execute_reply.started": "2024-12-07T04:27:51.13887Z"
    },
    "trusted": true
   },
   "outputs": [],
   "source": [
    "evaluate_model(KNR, x_train, y_train, x_test, y_test)"
   ]
  }
 ],
 "metadata": {
  "kaggle": {
   "accelerator": "none",
   "dataSources": [
    {
     "datasetId": 6157172,
     "sourceId": 10002792,
     "sourceType": "datasetVersion"
    }
   ],
   "dockerImageVersionId": 30804,
   "isGpuEnabled": false,
   "isInternetEnabled": false,
   "language": "python",
   "sourceType": "notebook"
  },
  "kernelspec": {
   "display_name": "Python 3",
   "language": "python",
   "name": "python3"
  },
  "language_info": {
   "codemirror_mode": {
    "name": "ipython",
    "version": 3
   },
   "file_extension": ".py",
   "mimetype": "text/x-python",
   "name": "python",
   "nbconvert_exporter": "python",
   "pygments_lexer": "ipython3",
   "version": "3.10.14"
  }
 },
 "nbformat": 4,
 "nbformat_minor": 4
}
